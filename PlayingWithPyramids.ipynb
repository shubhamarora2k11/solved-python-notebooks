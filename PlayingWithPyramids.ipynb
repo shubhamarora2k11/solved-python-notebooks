{
 "cells": [
  {
   "cell_type": "code",
   "execution_count": 34,
   "metadata": {},
   "outputs": [
    {
     "name": "stdout",
     "output_type": "stream",
     "text": [
      "    *\n",
      "   ***\n",
      "  *****\n",
      " *******\n",
      "*********\n"
     ]
    }
   ],
   "source": [
    "def createPyramid(n):\n",
    "    temp = \"\"\n",
    "    for i in range(0,n):        \n",
    "        for j in range(n,i+1,-1):\n",
    "            temp+=\" \"\n",
    "        for j in range(2*i+1):\n",
    "            temp+=\"*\"\n",
    "        if(i!=n-1):\n",
    "            temp+='\\n'\n",
    "    print(temp)\n",
    "createPyramid(5)"
   ]
  },
  {
   "cell_type": "code",
   "execution_count": 52,
   "metadata": {},
   "outputs": [
    {
     "name": "stdout",
     "output_type": "stream",
     "text": [
      "*********\n",
      " *******\n",
      "  *****\n",
      "   ***\n",
      "    *\n"
     ]
    }
   ],
   "source": [
    "def createPyramid(n):\n",
    "    temp = \"\"\n",
    "    for i in range(n,0,-1):        \n",
    "        for j in range(n-i):\n",
    "            temp+=\" \"\n",
    "        for j in range(2*i-1):\n",
    "            temp+=\"*\"\n",
    "        if(i!=1):\n",
    "            temp+='\\n'\n",
    "    print(temp)\n",
    "createPyramid(5)"
   ]
  },
  {
   "cell_type": "code",
   "execution_count": 56,
   "metadata": {},
   "outputs": [
    {
     "name": "stdout",
     "output_type": "stream",
     "text": [
      "*********\n",
      " *******\n",
      "  *****\n",
      "   ***\n",
      "    *\n"
     ]
    }
   ],
   "source": [
    "def createPyramid(height,direction):\n",
    "    \n",
    "    temp = \"\"\n",
    "    n= height\n",
    "    if(direction=='u'):\n",
    "        for i in range(0,n):        \n",
    "            for j in range(n,i+1,-1):\n",
    "                temp+=\" \"\n",
    "            for j in range(2*i+1):\n",
    "                temp+=\"*\"\n",
    "            if(i!=n-1):\n",
    "                temp+='\\n'\n",
    "    \n",
    "    elif(direction=='d'):\n",
    "        for i in range(n,0,-1):\n",
    "            for j in range(n-i):\n",
    "                temp+=\" \"\n",
    "            for j in range(2*i-1):\n",
    "                temp+=\"*\"\n",
    "            if(i!=1):\n",
    "                temp+='\\n'\n",
    "        \n",
    "    print(temp)\n",
    "    \n",
    "createPyramid(5,'d')"
   ]
  },
  {
   "cell_type": "code",
   "execution_count": 73,
   "metadata": {},
   "outputs": [
    {
     "name": "stdout",
     "output_type": "stream",
     "text": [
      "    s\n",
      "   hub\n",
      "  hamar\n",
      " orashub\n",
      "hamaroras\n",
      "\n",
      "\n",
      "shubhamar\n",
      " orashub\n",
      "  hamar\n",
      "   ora\n",
      "    s\n"
     ]
    }
   ],
   "source": [
    "def createPyramid(height,direction):\n",
    "    \n",
    "    arr = 'shubhamarora'\n",
    "#     print(arr)\n",
    "    \n",
    "    temp = \"\"\n",
    "    n= height\n",
    "    \n",
    "    c_min=0\n",
    "    c = c_min\n",
    "    c_max=len(arr)\n",
    "#     print(c_min,c_max)\n",
    "    \n",
    "    if(direction=='u'):\n",
    "        for i in range(0,n):        \n",
    "            for j in range(n,i+1,-1):\n",
    "                temp+=\" \"\n",
    "            for j in range(2*i+1):\n",
    "                temp+=arr[c]\n",
    "                if(c!=c_max-1):\n",
    "                    c+=1\n",
    "                else:\n",
    "                    c=c_min\n",
    "            if(i!=n-1):\n",
    "                temp+='\\n'\n",
    "    \n",
    "    elif(direction=='d'):\n",
    "        for i in range(n,0,-1):\n",
    "            for j in range(n-i):\n",
    "                temp+=\" \"\n",
    "            for j in range(2*i-1):\n",
    "                temp+=arr[c]\n",
    "                if(c!=c_max-1):\n",
    "                    c+=1\n",
    "                else:\n",
    "                    c=c_min\n",
    "            if(i!=1):\n",
    "                temp+='\\n'\n",
    "        \n",
    "    print(temp)\n",
    "\n",
    "createPyramid(5,'u')\n",
    "print('\\n')\n",
    "createPyramid(5,'d')"
   ]
  },
  {
   "cell_type": "code",
   "execution_count": 83,
   "metadata": {},
   "outputs": [
    {
     "data": {
      "text/plain": [
       "'mahbuhs'"
      ]
     },
     "execution_count": 83,
     "metadata": {},
     "output_type": "execute_result"
    }
   ],
   "source": [
    "def getReverseString(st):\n",
    "    temp=\"\"\n",
    "    for i in range(len(st)-1,0-1,-1):\n",
    "        temp+=st[i]\n",
    "    return temp\n",
    "getReverseString(\"shubham\")"
   ]
  },
  {
   "cell_type": "code",
   "execution_count": 89,
   "metadata": {},
   "outputs": [
    {
     "name": "stdout",
     "output_type": "stream",
     "text": [
      "         s\n",
      "        buh\n",
      "       hamar\n",
      "      buhsaro\n",
      "     hamaroras\n",
      "    aroramahbuh\n",
      "   shubhamaroras\n",
      "  buhsaroramahbuh\n",
      " hamarorashubhamar\n",
      "buhsaroramahbuhsaro\n",
      "\n",
      "\n",
      "dilakraanailahcoksidilakraana\n",
      " iskochalianaarkalidiskochal\n",
      "  raanailahcoksidilakraanai\n",
      "   kalidiskochalianaarkali\n",
      "    idilakraanailahcoksid\n",
      "     skochalianaarkalidi\n",
      "      ilakraanailahcoks\n",
      "       diskochalianaar\n",
      "        lahcoksidilak\n",
      "         ianaarkalid\n",
      "          ilahcoksi\n",
      "           anaarka\n",
      "            sidil\n",
      "             koc\n",
      "              h\n"
     ]
    }
   ],
   "source": [
    "def createPyramid(height,direction,string):\n",
    "    \n",
    "    arr = string\n",
    "#     print(arr)\n",
    "    \n",
    "    temp = \"\"\n",
    "    n= height\n",
    "    \n",
    "    c_min=0\n",
    "    c = c_min\n",
    "    c_max=len(arr)\n",
    "#     print(c_min,c_max)\n",
    "    \n",
    "    if(direction=='u'):\n",
    "        for i in range(0,n):\n",
    "            newtemp=\"\"\n",
    "            for j in range(n,i+1,-1):\n",
    "                temp+=\" \"\n",
    "            for j in range(2*i+1):\n",
    "                newtemp+=arr[c]\n",
    "                if(c!=c_max-1):\n",
    "                    c+=1\n",
    "                else:\n",
    "                    c=c_min\n",
    "            if(i%2==0):\n",
    "                temp+=newtemp\n",
    "            else: \n",
    "                temp+=getReverseString(newtemp)\n",
    "            if(i!=n-1):\n",
    "                temp+='\\n'\n",
    "    \n",
    "    elif(direction=='d'):\n",
    "        for i in range(n,0,-1):\n",
    "            newtemp=\"\"\n",
    "            for j in range(n-i):\n",
    "                temp+=\" \"\n",
    "            for j in range(2*i-1):\n",
    "                newtemp+=arr[c]\n",
    "                if(c!=c_max-1):\n",
    "                    c+=1\n",
    "                else:\n",
    "                    c=c_min\n",
    "            if(i%2==0):\n",
    "                temp+=newtemp\n",
    "            else: \n",
    "                temp+=getReverseString(newtemp)\n",
    "            if(i!=1):\n",
    "                temp+='\\n'\n",
    "        \n",
    "    print(temp)\n",
    "\n",
    "createPyramid(10,'u','shubhamarora')\n",
    "print('\\n')\n",
    "createPyramid(15,'d','anaarkalidiskochali')"
   ]
  },
  {
   "cell_type": "code",
   "execution_count": null,
   "metadata": {},
   "outputs": [],
   "source": []
  }
 ],
 "metadata": {
  "kernelspec": {
   "display_name": "Python 3",
   "language": "python",
   "name": "python3"
  },
  "language_info": {
   "codemirror_mode": {
    "name": "ipython",
    "version": 3
   },
   "file_extension": ".py",
   "mimetype": "text/x-python",
   "name": "python",
   "nbconvert_exporter": "python",
   "pygments_lexer": "ipython3",
   "version": "3.5.2"
  }
 },
 "nbformat": 4,
 "nbformat_minor": 2
}
