{
 "cells": [
  {
   "cell_type": "code",
   "execution_count": 43,
   "metadata": {},
   "outputs": [
    {
     "name": "stdout",
     "output_type": "stream",
     "text": [
      "0\n",
      "Repeat/Missing Element: 5\n"
     ]
    }
   ],
   "source": [
    "def xor(str1, str2):\n",
    "    return str1 ^ str2\n",
    "\n",
    "print(xor(5,5))\n",
    "\n",
    "arr=[0,1,2,3,4,5,5]\n",
    "arr2=[0,1,2,3,4,5]\n",
    "w = arr[0]\n",
    "for i in range(1, len(arr)):\n",
    "    w = xor(w, arr[i])\n",
    "n=arr2[0]\n",
    "for i in range(1, len(arr2)):\n",
    "    n = xor(n, arr[i])\n",
    "w= (w ^ n)\n",
    "print (\"Repeat/Missing Element: \" + str(w))"
   ]
  },
  {
   "cell_type": "code",
   "execution_count": 35,
   "metadata": {},
   "outputs": [
    {
     "name": "stdout",
     "output_type": "stream",
     "text": [
      "Repeat/Missing Element: 4\n"
     ]
    }
   ],
   "source": [
    "arr=[0,1,2,3,5,6]\n",
    "arr2=[0,1,2,3,4,5,6]\n",
    "w = arr[0]\n",
    "for i in range(1, len(arr)):\n",
    "    w = xor(w, arr[i])\n",
    "    \n",
    "n = arr2[0]\n",
    "for i in range(1, len(arr2)):\n",
    "    n = xor(n, arr2[i])\n",
    "\n",
    "print (\"Repeat/Missing Element: \" + str(w ^ n))"
   ]
  },
  {
   "cell_type": "code",
   "execution_count": null,
   "metadata": {},
   "outputs": [],
   "source": [
    "arr=[1,9,7,5,4]\n",
    "arr=[2,7,-5]\n",
    "\n",
    "arr2=[0,1,2,3,4,5,6]\n",
    "w = arr[0]\n",
    "for i in range(1, len(arr)):\n",
    "    w = xor(w, arr[i])\n",
    "    \n",
    "n = arr2[0]\n",
    "for i in range(1, len(arr2)):\n",
    "    n = xor(n, arr2[i])\n",
    "\n",
    "print (\"Repeat/Missing Element: \" + str(w ^ n))"
   ]
  }
 ],
 "metadata": {
  "kernelspec": {
   "display_name": "Python 3",
   "language": "python",
   "name": "python3"
  },
  "language_info": {
   "codemirror_mode": {
    "name": "ipython",
    "version": 3
   },
   "file_extension": ".py",
   "mimetype": "text/x-python",
   "name": "python",
   "nbconvert_exporter": "python",
   "pygments_lexer": "ipython3",
   "version": "3.5.2"
  }
 },
 "nbformat": 4,
 "nbformat_minor": 2
}
