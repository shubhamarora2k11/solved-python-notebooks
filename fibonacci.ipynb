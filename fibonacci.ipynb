{
 "cells": [
  {
   "cell_type": "code",
   "execution_count": null,
   "metadata": {},
   "outputs": [],
   "source": [
    "# Fibonacci"
   ]
  },
  {
   "cell_type": "code",
   "execution_count": 61,
   "metadata": {},
   "outputs": [
    {
     "data": {
      "text/plain": [
       "34"
      ]
     },
     "execution_count": 61,
     "metadata": {},
     "output_type": "execute_result"
    }
   ],
   "source": [
    "#basic #fastest\n",
    "\n",
    "def fib(n):\n",
    "    if(n < 2):\n",
    "        return n\n",
    "    a,b = 0,1\n",
    "    ans=0\n",
    "    i = 1\n",
    "    while(i < n):\n",
    "        ans = (a+b) \n",
    "        a = b\n",
    "        b = ans\n",
    "        i+=1\n",
    "\n",
    "    return ans\n",
    "\n",
    "fib(9)"
   ]
  },
  {
   "cell_type": "code",
   "execution_count": 62,
   "metadata": {},
   "outputs": [
    {
     "name": "stdout",
     "output_type": "stream",
     "text": [
      "34\n"
     ]
    }
   ],
   "source": [
    "#recursion\n",
    "\n",
    "def fibonacci(n): \n",
    "    if n<0: \n",
    "        pass \n",
    "    elif n==1: \n",
    "        return 0\n",
    "    elif n==2: \n",
    "        return 1\n",
    "    else: \n",
    "        return fibonacci(n-1)+fibonacci(n-2) \n",
    "\n",
    "print(fibonacci(9+1)) \n"
   ]
  },
  {
   "cell_type": "code",
   "execution_count": null,
   "metadata": {},
   "outputs": [],
   "source": []
  },
  {
   "cell_type": "code",
   "execution_count": 64,
   "metadata": {},
   "outputs": [
    {
     "data": {
      "text/plain": [
       "34"
      ]
     },
     "execution_count": 64,
     "metadata": {},
     "output_type": "execute_result"
    }
   ],
   "source": [
    "# Dynamic Programming\n",
    "\n",
    "def fibonacci(n): \n",
    "    \n",
    "    FibArray = [0, 1] \n",
    "    \n",
    "    while len(FibArray) < n + 1: \n",
    "        FibArray.append(0) \n",
    "    \n",
    "    if n <= 1: \n",
    "        return n \n",
    "    else: \n",
    "        if FibArray[n - 1] == 0: \n",
    "            FibArray[n - 1] = fibonacci(n - 1) \n",
    "    \n",
    "        if FibArray[n - 2] == 0: \n",
    "            FibArray[n - 2] = fibonacci(n - 2) \n",
    "\n",
    "\n",
    "    FibArray[n] = FibArray[n - 2] + FibArray[n - 1] \n",
    "    \n",
    "    r = FibArray[n]\n",
    "    \n",
    "    #return convertToSix(FibArray[n]) \n",
    "    return r\n",
    "\n",
    "fibonacci(9)"
   ]
  },
  {
   "cell_type": "code",
   "execution_count": 65,
   "metadata": {},
   "outputs": [
    {
     "data": {
      "text/plain": [
       "14930352"
      ]
     },
     "execution_count": 65,
     "metadata": {},
     "output_type": "execute_result"
    }
   ],
   "source": [
    "#Basic with mod\n",
    "\n",
    "MOD=1000000007\n",
    "def fib(n):\n",
    "    if(n < 2):\n",
    "        return n\n",
    "    a,b = 0,1\n",
    "    ans=0\n",
    "    i = 1\n",
    "    while(i < n):\n",
    "        ans = (a+b) % MOD\n",
    "        a = b\n",
    "        b = ans\n",
    "        i+=1\n",
    "\n",
    "    return ans\n",
    "\n",
    "fib(36)"
   ]
  },
  {
   "cell_type": "code",
   "execution_count": null,
   "metadata": {},
   "outputs": [],
   "source": []
  },
  {
   "cell_type": "code",
   "execution_count": 58,
   "metadata": {},
   "outputs": [],
   "source": []
  },
  {
   "cell_type": "code",
   "execution_count": null,
   "metadata": {},
   "outputs": [],
   "source": []
  }
 ],
 "metadata": {
  "kernelspec": {
   "display_name": "Python 3",
   "language": "python",
   "name": "python3"
  },
  "language_info": {
   "codemirror_mode": {
    "name": "ipython",
    "version": 3
   },
   "file_extension": ".py",
   "mimetype": "text/x-python",
   "name": "python",
   "nbconvert_exporter": "python",
   "pygments_lexer": "ipython3",
   "version": "3.5.2"
  }
 },
 "nbformat": 4,
 "nbformat_minor": 2
}
