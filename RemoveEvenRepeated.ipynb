{
 "cells": [
  {
   "cell_type": "code",
   "execution_count": null,
   "metadata": {},
   "outputs": [],
   "source": [
    "#Remove even length repeatative characters recursively"
   ]
  },
  {
   "cell_type": "code",
   "execution_count": null,
   "metadata": {},
   "outputs": [],
   "source": []
  },
  {
   "cell_type": "code",
   "execution_count": 223,
   "metadata": {},
   "outputs": [
    {
     "name": "stdout",
     "output_type": "stream",
     "text": [
      "['a', 'z', 'z', 'z', 'x', 'x', 'y', 'y', 'y', 'd', 'd', 'w', 'q', 'q', 'w', 'd', 'd', 'y']\n",
      "['a', 'z', 'z', 'z', 'y', 'y', 'y', 'w', 'w', 'y']\n",
      "['a', 'z', 'z', 'z', 'y', 'y', 'y', 'w', 'w', 'y']\n",
      "['a', 'z', 'z', 'z', 'y', 'y', 'y', 'y']\n",
      "['a', 'z', 'z', 'z', 'y', 'y', 'y', 'y']\n",
      "['a', 'z', 'z', 'z']\n",
      "['a', 'z', 'z', 'z']\n",
      "['a', 'z', 'z', 'z']\n"
     ]
    }
   ],
   "source": [
    "def checkRepeatCount(c, string1, i):\n",
    "        if (i!=len(string1)-1 and string1[i]==string1[i+1]):\n",
    "            c+=1\n",
    "            i+=1\n",
    "            c = checkRepeatCount(c, string1, i)\n",
    "        else:\n",
    "            pass\n",
    "        return c\n",
    "    \n",
    "def recursionCheck( string ):\n",
    "\n",
    "    temp = list(string)\n",
    "    count=[]\n",
    "\n",
    "\n",
    "    count=[]\n",
    "            \n",
    "    for i in range(len(temp)-1):\n",
    "        count.append(checkRepeatCount(0, temp, i))\n",
    "\n",
    "    print(temp)\n",
    "\n",
    "    delindex =[]\n",
    "\n",
    "    i=0\n",
    "    while(i<len(count)):\n",
    "        if(count[i]%2==1):\n",
    "            for r in range(count[i]+1):\n",
    "                delindex.append(i+r)\n",
    "        else:\n",
    "            i+= count[i]   \n",
    "        i+=1\n",
    "\n",
    "    c=0\n",
    "    for i in range(len(delindex)):\n",
    "        c =  delindex[i]-i\n",
    "        del temp[c]\n",
    "    \n",
    "    print(temp)\n",
    "    \n",
    "    if(len(string)> len(temp)):\n",
    "        recursionCheck(temp)\n",
    "\n",
    "string = \"azzzxxyyyddwqqwddy\"\n",
    "recursionCheck(string)\n",
    "    \n",
    "    "
   ]
  },
  {
   "cell_type": "code",
   "execution_count": null,
   "metadata": {},
   "outputs": [],
   "source": []
  },
  {
   "cell_type": "code",
   "execution_count": null,
   "metadata": {},
   "outputs": [],
   "source": []
  },
  {
   "cell_type": "code",
   "execution_count": null,
   "metadata": {},
   "outputs": [],
   "source": []
  },
  {
   "cell_type": "code",
   "execution_count": null,
   "metadata": {},
   "outputs": [],
   "source": []
  },
  {
   "cell_type": "code",
   "execution_count": null,
   "metadata": {},
   "outputs": [],
   "source": []
  },
  {
   "cell_type": "code",
   "execution_count": null,
   "metadata": {},
   "outputs": [],
   "source": []
  },
  {
   "cell_type": "code",
   "execution_count": null,
   "metadata": {},
   "outputs": [],
   "source": []
  }
 ],
 "metadata": {
  "kernelspec": {
   "display_name": "Python 3",
   "language": "python",
   "name": "python3"
  },
  "language_info": {
   "codemirror_mode": {
    "name": "ipython",
    "version": 3
   },
   "file_extension": ".py",
   "mimetype": "text/x-python",
   "name": "python",
   "nbconvert_exporter": "python",
   "pygments_lexer": "ipython3",
   "version": "3.5.2"
  }
 },
 "nbformat": 4,
 "nbformat_minor": 2
}
